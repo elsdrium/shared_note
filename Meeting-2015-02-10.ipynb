{
 "cells": [
  {
   "cell_type": "markdown",
   "metadata": {
    "slideshow": {
     "slide_type": "slide"
    }
   },
   "source": [
    "#Some Definitions\n",
    "\n",
    "1. ###Inner product space\n",
    " - ###Inner product\n",
    "2. ###Hilbert space\n",
    " - ###Complete\n",
    " - ###Separable\n",
    "3. ###Reproducing kernel Hilbert space\n",
    " - ###Reproducing property"
   ]
  },
  {
   "cell_type": "markdown",
   "metadata": {
    "slideshow": {
     "slide_type": "slide"
    }
   },
   "source": [
    "#Kernel Methods in Machine Learning\n"
   ]
  },
  {
   "cell_type": "markdown",
   "metadata": {
    "slideshow": {
     "slide_type": "slide"
    }
   },
   "source": []
  },
  {
   "cell_type": "markdown",
   "metadata": {
    "slideshow": {
     "slide_type": "slide"
    }
   },
   "source": []
  },
  {
   "cell_type": "markdown",
   "metadata": {
    "slideshow": {
     "slide_type": "slide"
    }
   },
   "source": [
    "#Advantages of RKHS in Machine Learning\n",
    "\n",
    "- ##Powerful and flexible models can be defined.\n",
    "\n",
    "- ##Many results and algorithms for linear models in Euclidean spaces can be generalized to RKHS.\n",
    "\n",
    "- ##Learning theory assures that effective learning in RKHS is possible, for instance, by means of regularization."
   ]
  },
  {
   "cell_type": "markdown",
   "metadata": {
    "slideshow": {
     "slide_type": "slide"
    }
   },
   "source": []
  },
  {
   "cell_type": "markdown",
   "metadata": {
    "slideshow": {
     "slide_type": "slide"
    }
   },
   "source": [
    "#Example - Ridge Regression\n",
    "\n",
    "###Objective : Minimize $\\|A\\mathbf{x}-\\mathbf{b}\\|^2_2+ \\lambda\\| \\mathbf{x}\\|^2_2$\n",
    "\n",
    "###Explicit solution : $\\hat{x} = (A^{T}A+ \\lambda I )^{-1}A^{T}\\mathbf{b}$\n",
    "\n",
    "###Kernelization $\\implies$ $\\hat{x} = (K+ \\lambda I )^{-1}A^{T}\\mathbf{b}$"
   ]
  },
  {
   "cell_type": "markdown",
   "metadata": {
    "slideshow": {
     "slide_type": "slide"
    }
   },
   "source": []
  },
  {
   "cell_type": "code",
   "execution_count": null,
   "metadata": {
    "collapsed": false
   },
   "outputs": [],
   "source": []
  }
 ],
 "metadata": {
  "author": "Hsueh-Min Chen",
  "celltoolbar": "Slideshow",
  "kernelspec": {
   "display_name": "Python 2",
   "language": "python",
   "name": "python2"
  },
  "language_info": {
   "codemirror_mode": {
    "name": "ipython",
    "version": 2
   },
   "file_extension": ".py",
   "mimetype": "text/x-python",
   "name": "python",
   "nbconvert_exporter": "python",
   "pygments_lexer": "ipython2",
   "version": "2.7.9"
  }
 },
 "nbformat": 4,
 "nbformat_minor": 0
}
